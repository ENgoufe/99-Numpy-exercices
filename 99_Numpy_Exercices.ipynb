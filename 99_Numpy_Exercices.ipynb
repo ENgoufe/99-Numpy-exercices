{
 "cells": [
  {
   "cell_type": "code",
   "execution_count": 29,
   "id": "3112d3e4",
   "metadata": {},
   "outputs": [
    {
     "data": {
      "text/plain": [
       "'1.24.3'"
      ]
     },
     "execution_count": 29,
     "metadata": {},
     "output_type": "execute_result"
    }
   ],
   "source": [
    "# Import and Print the numpy version and the configuration (★☆☆)\n",
    "import numpy as np\n",
    "np.version.version"
   ]
  },
  {
   "cell_type": "code",
   "execution_count": 5,
   "id": "9a34803b",
   "metadata": {},
   "outputs": [
    {
     "name": "stdout",
     "output_type": "stream",
     "text": [
      "[0. 0. 0. 0. 0. 0. 0. 0. 0. 0.]\n"
     ]
    }
   ],
   "source": [
    "# 2. Create a null vector of size 10 (★☆☆)\n",
    "ten_zero = np.zeros(10)\n",
    "print(ten_zero)"
   ]
  },
  {
   "cell_type": "code",
   "execution_count": 8,
   "id": "7a843f3c",
   "metadata": {},
   "outputs": [
    {
     "data": {
      "text/plain": [
       "10"
      ]
     },
     "execution_count": 8,
     "metadata": {},
     "output_type": "execute_result"
    }
   ],
   "source": [
    "# How to find the memory size of any array (★☆☆)\n",
    "np.size(ten_zero)"
   ]
  },
  {
   "cell_type": "code",
   "execution_count": 9,
   "id": "616a12a1",
   "metadata": {},
   "outputs": [
    {
     "name": "stdout",
     "output_type": "stream",
     "text": [
      "[0. 0. 0. 0. 0. 1. 0. 0. 0. 0.]\n"
     ]
    }
   ],
   "source": [
    "# Create a null vector of size 10 but the fifth value which is 1 (★☆☆)\n",
    "ten_zero[5] = 1\n",
    "print(ten_zero)"
   ]
  },
  {
   "cell_type": "code",
   "execution_count": 12,
   "id": "111b16ae",
   "metadata": {},
   "outputs": [
    {
     "name": "stdout",
     "output_type": "stream",
     "text": [
      "[10 11 12 13 14 15 16 17 18 19 20 21 22 23 24 25 26 27 28 29 30 31 32 33\n",
      " 34 35 36 37 38 39 40 41 42 43 44 45 46 47 48 49]\n"
     ]
    }
   ],
   "source": [
    "#Create a vector with values ranging from 10 to 49 (★☆☆)\n",
    "first_r = np.arange(10, 50)\n",
    "print(first_r)"
   ]
  },
  {
   "cell_type": "code",
   "execution_count": 13,
   "id": "be1fb7de",
   "metadata": {},
   "outputs": [
    {
     "name": "stdout",
     "output_type": "stream",
     "text": [
      "[49 48 47 46 45 44 43 42 41 40 39 38 37 36 35 34 33 32 31 30 29 28 27 26\n",
      " 25 24 23 22 21 20 19 18 17 16 15 14 13 12 11 10]\n"
     ]
    }
   ],
   "source": [
    "# Reverse a vector (first element becomes last) (★☆☆)\n",
    "revert_first_r = np.flip(first_r) # first_r[::-1]\n",
    "print(revert_first_r)"
   ]
  },
  {
   "cell_type": "code",
   "execution_count": 14,
   "id": "9ebbda7a",
   "metadata": {},
   "outputs": [
    {
     "name": "stdout",
     "output_type": "stream",
     "text": [
      "[[0 1 2]\n",
      " [3 4 5]\n",
      " [6 7 8]]\n"
     ]
    }
   ],
   "source": [
    "# Create a 3x3 matrix with values ranging from 0 to 8 (★☆☆)\n",
    "twoD = np.arange(9).reshape(3, 3)\n",
    "print(twoD)"
   ]
  },
  {
   "cell_type": "code",
   "execution_count": 19,
   "id": "53d2bad0",
   "metadata": {},
   "outputs": [
    {
     "name": "stdout",
     "output_type": "stream",
     "text": [
      "(array([ 0,  1,  4,  6,  7, 10, 11], dtype=int64),)\n"
     ]
    }
   ],
   "source": [
    "# Find indices of non-zero elements from [1,2,0,0,4,0,5,7,0,0,23,67,0,0,0] (★☆☆)\n",
    "my_indices = np.where(~np.isin([1,2,0,0,4,0,5,7,0,0,23,67,0,0,0], 0))\n",
    "print(my_indices)"
   ]
  },
  {
   "cell_type": "code",
   "execution_count": 20,
   "id": "d1a4e382",
   "metadata": {},
   "outputs": [
    {
     "name": "stdout",
     "output_type": "stream",
     "text": [
      "[[1. 0. 0. 0. 0.]\n",
      " [0. 1. 0. 0. 0.]\n",
      " [0. 0. 1. 0. 0.]\n",
      " [0. 0. 0. 1. 0.]\n",
      " [0. 0. 0. 0. 1.]]\n"
     ]
    }
   ],
   "source": [
    "#Create a 5x5 identity matrix (★☆☆)\n",
    "identity_matrix = np.eye(5)\n",
    "print(identity_matrix)"
   ]
  },
  {
   "cell_type": "code",
   "execution_count": 24,
   "id": "663d612c",
   "metadata": {},
   "outputs": [
    {
     "name": "stdout",
     "output_type": "stream",
     "text": [
      "[[  3 123 176 142  92 191 154  98 193 143]\n",
      " [ 69 107  67 147 128  77 198  46  87  31]\n",
      " [  7  21 170  27  58   3 178 111  53   4]\n",
      " [147  95  76 137 182 102  20   0  12  70]\n",
      " [145  27  92 176 137  57 183 113  41 107]\n",
      " [ 44  47  11  52 138 115  41 133 103 155]\n",
      " [142 170  47  68 127 114 191 168 189  32]\n",
      " [ 54 157  50  49 124 127  15 132 137 122]\n",
      " [123 127 149  56  51 172 196  56 156 199]\n",
      " [114 146 185 199 169 104 140 157 182 170]]\n",
      "0 199\n"
     ]
    }
   ],
   "source": [
    "# Create a 10x10 array with random values and find the minimum and maximum values (★☆☆)\n",
    "ten_ten = np.random.randint(0, 200, size=(10, 10))\n",
    "print(ten_ten)\n",
    "max_ten_ten = np.max(ten_ten)\n",
    "min_ten_ten = np.min(ten_ten)\n",
    "print(min_ten_ten, max_ten_ten)"
   ]
  },
  {
   "cell_type": "code",
   "execution_count": 26,
   "id": "edca1cea",
   "metadata": {},
   "outputs": [
    {
     "name": "stdout",
     "output_type": "stream",
     "text": [
      "211.56666666666666\n"
     ]
    }
   ],
   "source": [
    "# Create a random vector of size 30 and find the mean value (★☆☆)\n",
    "my_arr= np.random.randint(1, 500, size=(30))\n",
    "mean_of_my_arr = np.mean(my_arr)\n",
    "print(mean_of_my_arr)"
   ]
  },
  {
   "cell_type": "code",
   "execution_count": 28,
   "id": "a7c2b852",
   "metadata": {},
   "outputs": [
    {
     "name": "stdout",
     "output_type": "stream",
     "text": [
      "[[1. 1. 1. 1. 1. 1.]\n",
      " [1. 0. 0. 0. 0. 1.]\n",
      " [1. 0. 0. 0. 0. 1.]\n",
      " [1. 0. 0. 0. 0. 1.]\n",
      " [1. 0. 0. 0. 0. 1.]\n",
      " [1. 1. 1. 1. 1. 1.]]\n"
     ]
    }
   ],
   "source": [
    "# Create a 2d array with 1 on the border and 0 inside (★☆☆)\n",
    "my_arr1 = np.zeros((6, 6))\n",
    "my_arr1[0, :] = 1   #top\n",
    "my_arr1[-1, :] = 1  #bottom\n",
    "my_arr1[:, -1] = 1  #right\n",
    "my_arr1[:, 0] = 1   #left\n",
    "print(my_arr1)"
   ]
  },
  {
   "cell_type": "code",
   "execution_count": 33,
   "id": "0be82575",
   "metadata": {},
   "outputs": [
    {
     "name": "stdout",
     "output_type": "stream",
     "text": [
      "[[0. 0. 0. 0. 0. 0. 0. 0.]\n",
      " [0. 1. 1. 1. 1. 1. 1. 0.]\n",
      " [0. 1. 1. 1. 1. 1. 1. 0.]\n",
      " [0. 1. 1. 1. 1. 1. 1. 0.]\n",
      " [0. 1. 1. 1. 1. 1. 1. 0.]\n",
      " [0. 1. 1. 1. 1. 1. 1. 0.]\n",
      " [0. 1. 1. 1. 1. 1. 1. 0.]\n",
      " [0. 0. 0. 0. 0. 0. 0. 0.]]\n"
     ]
    }
   ],
   "source": [
    "# How to add a border (filled with 0's) around an existing array?\n",
    "z = np.ones((6, 6))\n",
    "z = np.pad(z, pad_width=1, mode='constant', constant_values=0)\n",
    "print(z)"
   ]
  },
  {
   "cell_type": "code",
   "execution_count": 34,
   "id": "e8093f00",
   "metadata": {},
   "outputs": [],
   "source": [
    "# What is the result of the following expression? (★☆☆)\n",
    "# 0 * np.nan  --> nan\n",
    "# np.nan == np.nan ---> false\n",
    "# np.inf > np.nan ---> false\n",
    "# np.nan - np.nan ---> nan\n",
    "# np.nan in set([np.nan]) ---> true\n",
    "# 0.3 == 3 * 0.1  ---> false ---> np.isclose(0.3, 3 * 0.1)"
   ]
  },
  {
   "cell_type": "code",
   "execution_count": 42,
   "id": "9845a416",
   "metadata": {},
   "outputs": [
    {
     "name": "stdout",
     "output_type": "stream",
     "text": [
      "[[0 0 0 0 0]\n",
      " [1 0 0 0 0]\n",
      " [0 2 0 0 0]\n",
      " [0 0 3 0 0]\n",
      " [0 0 0 4 0]]\n"
     ]
    },
    {
     "data": {
      "text/plain": [
       "'x = np.arange(9).reshape((3, 3))\\nprint(x)\\nprint(np.diag(x)) # Output: array([0, 4, 8])\\nprint(np.diag(x, k=1)) # Output: array([1, 5])\\nprint(np.diag(x, k=-1)) # Output: array([3, 7])\\nprint(np.diag(np.diag(x))) # Output: array([[0, 0, 0], [0, 4, 0], [0, 0, 8]])'"
      ]
     },
     "execution_count": 42,
     "metadata": {},
     "output_type": "execute_result"
    }
   ],
   "source": [
    "# Create a 5x5 matrix with values 1,2,3,4 just below the diagonal (★☆☆)\n",
    "diag_arr = np.diag([1,2,3,4], k=-1)\n",
    "print(diag_arr)\n",
    "\n",
    "'''x = np.arange(9).reshape((3, 3))\n",
    "print(x)\n",
    "print(np.diag(x)) # Output: array([0, 4, 8])\n",
    "print(np.diag(x, k=1)) # Output: array([1, 5])\n",
    "print(np.diag(x, k=-1)) # Output: array([3, 7])\n",
    "print(np.diag(np.diag(x))) # Output: array([[0, 0, 0], [0, 4, 0], [0, 0, 8]])'''"
   ]
  },
  {
   "cell_type": "code",
   "execution_count": 45,
   "id": "ee4494b9",
   "metadata": {},
   "outputs": [
    {
     "name": "stdout",
     "output_type": "stream",
     "text": [
      "[[0. 1. 0. 1. 0. 1. 0. 1.]\n",
      " [1. 0. 1. 0. 1. 0. 1. 0.]\n",
      " [0. 1. 0. 1. 0. 1. 0. 1.]\n",
      " [1. 0. 1. 0. 1. 0. 1. 0.]\n",
      " [0. 1. 0. 1. 0. 1. 0. 1.]\n",
      " [1. 0. 1. 0. 1. 0. 1. 0.]\n",
      " [0. 1. 0. 1. 0. 1. 0. 1.]\n",
      " [1. 0. 1. 0. 1. 0. 1. 0.]]\n"
     ]
    }
   ],
   "source": [
    "# Create a 8x8 matrix and fill it with a checkerboard pattern (★☆☆)\n",
    "x = np.zeros((8,8))\n",
    "x[1::2, ::2] = 1\n",
    "x[::2, 1::2] = 1\n",
    "print(x)"
   ]
  },
  {
   "cell_type": "code",
   "execution_count": 49,
   "id": "911c3a7f",
   "metadata": {},
   "outputs": [
    {
     "name": "stdout",
     "output_type": "stream",
     "text": [
      "Index: (1, 5, 4)\n"
     ]
    }
   ],
   "source": [
    "# Consider a (6,7,8) shape array, what is the index (x,y,z) of the 100th element? (★☆☆)\n",
    "x = np.arange(336)\n",
    "x= x.reshape(6, 7, 8)\n",
    "index = np.unravel_index(100, x.shape)\n",
    "print(\"Index:\", index)\n"
   ]
  },
  {
   "cell_type": "code",
   "execution_count": 51,
   "id": "e5ee7f6c",
   "metadata": {},
   "outputs": [
    {
     "name": "stdout",
     "output_type": "stream",
     "text": [
      "[[0 1 0 1 0 1 0 1]\n",
      " [0 1 0 1 0 1 0 1]\n",
      " [0 1 0 1 0 1 0 1]\n",
      " [0 1 0 1 0 1 0 1]\n",
      " [0 1 0 1 0 1 0 1]\n",
      " [0 1 0 1 0 1 0 1]\n",
      " [0 1 0 1 0 1 0 1]\n",
      " [0 1 0 1 0 1 0 1]]\n"
     ]
    }
   ],
   "source": [
    "#  Create a checkerboard 8x8 matrix using the tile function (★☆☆)\n",
    "pattern = np.array([[0,1], [0,1]])\n",
    "x = np.tile(pattern, (4, 4))\n",
    "print(x)"
   ]
  },
  {
   "cell_type": "code",
   "execution_count": 54,
   "id": "d483fc3d",
   "metadata": {},
   "outputs": [
    {
     "name": "stdout",
     "output_type": "stream",
     "text": [
      "Original Matrix:\n",
      " [[0.95459333 0.17724759 0.60898657 0.6528512  0.69480921]\n",
      " [0.62029426 0.94503574 0.24052847 0.58489452 0.24830536]\n",
      " [0.32393689 0.45456209 0.34359224 0.74736416 0.85882568]\n",
      " [0.04440224 0.65623418 0.81076896 0.41842548 0.62490833]\n",
      " [0.4779913  0.98334726 0.540346   0.680155   0.88457145]]\n",
      "Row-wise Normalized Matrix:\n",
      " [[0.30908113 0.05738976 0.19717952 0.21138215 0.22496744]\n",
      " [0.23504378 0.35809581 0.09114178 0.22163    0.09408862]\n",
      " [0.11873296 0.16661117 0.12593726 0.27393225 0.31478637]\n",
      " [0.01738034 0.25686934 0.3173588  0.16378403 0.24460749]\n",
      " [0.13402586 0.2757246  0.15150974 0.19071133 0.24802847]]\n"
     ]
    }
   ],
   "source": [
    "# Normalize a 5x5 random matrix (★☆☆)\n",
    "matrix = np.random.rand(5, 5)\n",
    "row_sums = matrix.sum(axis=1, keepdims=True)\n",
    "normalized_matrix = matrix / row_sums\n",
    "\n",
    "print(\"Original Matrix:\\n\", matrix)\n",
    "print(\"Row-wise Normalized Matrix:\\n\", normalized_matrix)"
   ]
  },
  {
   "cell_type": "code",
   "execution_count": 55,
   "id": "e36b6f93",
   "metadata": {},
   "outputs": [
    {
     "name": "stdout",
     "output_type": "stream",
     "text": [
      "[(255,   0, 132, 255) (  0, 234,   0, 255) (  0,   0, 255, 179)]\n"
     ]
    }
   ],
   "source": [
    "# Create a custom dtype that describes a color as four unsigned bytes (RGBA) (★☆☆)\n",
    "rgba_dtype = np.dtype([\n",
    "    ('r', np.uint8),  # Red channel\n",
    "    ('g', np.uint8),  # Green channel\n",
    "    ('b', np.uint8),  # Blue channel\n",
    "    ('a', np.uint8)   # Alpha channel\n",
    "])\n",
    "\n",
    "\n",
    "colors = np.array([(255, 0, 132, 255), (0, 234, 0, 255), (0, 0, 255, 179)], dtype=rgba_dtype)\n",
    "\n",
    "# Print the array\n",
    "print(colors)"
   ]
  },
  {
   "cell_type": "code",
   "execution_count": 58,
   "id": "53bbf2a8",
   "metadata": {},
   "outputs": [
    {
     "name": "stdout",
     "output_type": "stream",
     "text": [
      "[[106 164]\n",
      " [109 154]\n",
      " [187 258]\n",
      " [ 84 216]\n",
      " [173 176]]\n"
     ]
    }
   ],
   "source": [
    "# Multiply a 5x3 matrix by a 3x2 matrix (real matrix product) (★☆☆)\n",
    "x = np.random.randint(15, size=(5, 3))\n",
    "y = np.random.randint(15, size=(3, 2))\n",
    "result = x @ y\n",
    "print(result)"
   ]
  },
  {
   "cell_type": "code",
   "execution_count": 61,
   "id": "b0fb66ce",
   "metadata": {},
   "outputs": [
    {
     "name": "stdout",
     "output_type": "stream",
     "text": [
      "[10 29 42 32 35 45  6 10 28 48  9 28 10 34 27 31 12 15 14  2]\n",
      "[ 10  29  42 -32 -35 -45  -6 -10 -28  48   9  28  10  34  27  31  12  15\n",
      "  14   2]\n"
     ]
    }
   ],
   "source": [
    "# Given a 1D array, negate all elements which are between 3 and 8, in place. (★☆☆)\n",
    "x = np.random.randint(50, size=20)\n",
    "print(x)\n",
    "x[3:9:] *= -1\n",
    "print(x)"
   ]
  },
  {
   "cell_type": "code",
   "execution_count": 62,
   "id": "49914e3f",
   "metadata": {},
   "outputs": [],
   "source": [
    "# Consider an integer vector Z, which of these expressions are legal? (★☆☆)\n",
    "# Z**Z legal\n",
    "# 2 << Z >> 2  legal\n",
    "# Z <- Z nicht legal\n",
    "# 1j*Z   legal\n",
    "# Z/1/1  legal\n",
    "# Z<Z>Z  legal"
   ]
  },
  {
   "cell_type": "code",
   "execution_count": 63,
   "id": "6c256b58",
   "metadata": {},
   "outputs": [
    {
     "name": "stdout",
     "output_type": "stream",
     "text": [
      "[-2. -3.  1.  2.  3.]\n"
     ]
    }
   ],
   "source": [
    "# How to round away from zero a float array ? (★☆☆)\n",
    "arr = np.array([-1.5, -2.3, 0.2, 1.7, 2.5])\n",
    "rounded = np.copysign(np.ceil(np.abs(arr)), arr)\n",
    "print(rounded)"
   ]
  },
  {
   "cell_type": "code",
   "execution_count": 66,
   "id": "cf5e817a",
   "metadata": {},
   "outputs": [
    {
     "name": "stdout",
     "output_type": "stream",
     "text": [
      "Common values: [4 5]\n"
     ]
    }
   ],
   "source": [
    "# How to find common values between two arrays? (★☆☆)\n",
    "array1 = np.array([1, 4, 3, 4, 5])\n",
    "array2 = np.array([4, 5, 6, 7, 4])\n",
    "common_values = np.intersect1d(array1, array2)\n",
    "print(\"Common values:\", common_values)"
   ]
  },
  {
   "cell_type": "code",
   "execution_count": 69,
   "id": "f6e54487",
   "metadata": {},
   "outputs": [
    {
     "name": "stdout",
     "output_type": "stream",
     "text": [
      "Yesterday: 2025-07-12\n",
      "Today: 2025-07-13\n",
      "Tomorrow: 2025-07-14\n"
     ]
    }
   ],
   "source": [
    "# How to get the dates of yesterday, today and tomorrow? (★☆☆)\n",
    "today = np.datetime64('today', 'D')\n",
    "yesterday = today - np.timedelta64(1, 'D')\n",
    "tomorrow = today + np.timedelta64(1, 'D')\n",
    "\n",
    "print(\"Yesterday:\", yesterday)\n",
    "print(\"Today:\", today)\n",
    "print(\"Tomorrow:\", tomorrow)"
   ]
  },
  {
   "cell_type": "code",
   "execution_count": null,
   "id": "249a7f26",
   "metadata": {},
   "outputs": [],
   "source": []
  }
 ],
 "metadata": {
  "kernelspec": {
   "display_name": "Python 3 (ipykernel)",
   "language": "python",
   "name": "python3"
  },
  "language_info": {
   "codemirror_mode": {
    "name": "ipython",
    "version": 3
   },
   "file_extension": ".py",
   "mimetype": "text/x-python",
   "name": "python",
   "nbconvert_exporter": "python",
   "pygments_lexer": "ipython3",
   "version": "3.11.4"
  }
 },
 "nbformat": 4,
 "nbformat_minor": 5
}
